{
 "cells": [
  {
   "cell_type": "code",
   "execution_count": 1,
   "metadata": {},
   "outputs": [],
   "source": [
    "import numpy as np\n",
    "import pandas as pd\n",
    "import matplotlib.pyplot as plt\n",
    "import matplotlib as mpl\n",
    "from CoefPlot import CoefPlot\n",
    "\n",
    "plt.style.use('seaborn')\n",
    "mpl.rcParams['font.family'] = 'serif'"
   ]
  },
  {
   "cell_type": "markdown",
   "metadata": {},
   "source": [
    "# 1. Simple coefficient plot example\n",
    "\n",
    "## 1.1 Generating some fake data"
   ]
  },
  {
   "cell_type": "code",
   "execution_count": 2,
   "metadata": {},
   "outputs": [
    {
     "data": {
      "text/html": [
       "<div>\n",
       "<style scoped>\n",
       "    .dataframe tbody tr th:only-of-type {\n",
       "        vertical-align: middle;\n",
       "    }\n",
       "\n",
       "    .dataframe tbody tr th {\n",
       "        vertical-align: top;\n",
       "    }\n",
       "\n",
       "    .dataframe thead th {\n",
       "        text-align: right;\n",
       "    }\n",
       "</style>\n",
       "<table border=\"1\" class=\"dataframe\">\n",
       "  <thead>\n",
       "    <tr style=\"text-align: right;\">\n",
       "      <th></th>\n",
       "      <th>variable</th>\n",
       "      <th>coef</th>\n",
       "      <th>err</th>\n",
       "    </tr>\n",
       "  </thead>\n",
       "  <tbody>\n",
       "    <tr>\n",
       "      <th>0</th>\n",
       "      <td>varname 0</td>\n",
       "      <td>0.249408</td>\n",
       "      <td>0.29519</td>\n",
       "    </tr>\n",
       "    <tr>\n",
       "      <th>1</th>\n",
       "      <td>varname 1</td>\n",
       "      <td>-1.35992</td>\n",
       "      <td>0.183432</td>\n",
       "    </tr>\n",
       "    <tr>\n",
       "      <th>2</th>\n",
       "      <td>varname 2</td>\n",
       "      <td>-1.19685</td>\n",
       "      <td>0.398376</td>\n",
       "    </tr>\n",
       "    <tr>\n",
       "      <th>3</th>\n",
       "      <td>varname 3</td>\n",
       "      <td>-0.212055</td>\n",
       "      <td>0.419261</td>\n",
       "    </tr>\n",
       "    <tr>\n",
       "      <th>4</th>\n",
       "      <td>varname 4</td>\n",
       "      <td>1.30716</td>\n",
       "      <td>0.322519</td>\n",
       "    </tr>\n",
       "    <tr>\n",
       "      <th>5</th>\n",
       "      <td>varname 5</td>\n",
       "      <td>0.519489</td>\n",
       "      <td>0.168501</td>\n",
       "    </tr>\n",
       "    <tr>\n",
       "      <th>6</th>\n",
       "      <td>varname 6</td>\n",
       "      <td>0.306614</td>\n",
       "      <td>0.124275</td>\n",
       "    </tr>\n",
       "    <tr>\n",
       "      <th>7</th>\n",
       "      <td>varname 7</td>\n",
       "      <td>0.394578</td>\n",
       "      <td>0.139651</td>\n",
       "    </tr>\n",
       "    <tr>\n",
       "      <th>8</th>\n",
       "      <td>varname 8</td>\n",
       "      <td>1.18124</td>\n",
       "      <td>0.446648</td>\n",
       "    </tr>\n",
       "    <tr>\n",
       "      <th>9</th>\n",
       "      <td>varname 9</td>\n",
       "      <td>-0.101482</td>\n",
       "      <td>0.199132</td>\n",
       "    </tr>\n",
       "  </tbody>\n",
       "</table>\n",
       "</div>"
      ],
      "text/plain": [
       "    variable      coef       err\n",
       "0  varname 0  0.249408   0.29519\n",
       "1  varname 1  -1.35992  0.183432\n",
       "2  varname 2  -1.19685  0.398376\n",
       "3  varname 3 -0.212055  0.419261\n",
       "4  varname 4   1.30716  0.322519\n",
       "5  varname 5  0.519489  0.168501\n",
       "6  varname 6  0.306614  0.124275\n",
       "7  varname 7  0.394578  0.139651\n",
       "8  varname 8   1.18124  0.446648\n",
       "9  varname 9 -0.101482  0.199132"
      ]
     },
     "execution_count": 2,
     "metadata": {},
     "output_type": "execute_result"
    }
   ],
   "source": [
    "b = np.random.standard_normal((10))\n",
    "e = 0.5*np.random.uniform(0,1,10)\n",
    "df1 = pd.DataFrame([['varname {}'.format(x) for x in range(10)], b, e]).T\n",
    "df1.columns = ['variable', 'coef', 'err',]\n",
    "df1"
   ]
  },
  {
   "cell_type": "markdown",
   "metadata": {},
   "source": [
    "## 1.2 Coefficient plot, y-axis sorted by variable name"
   ]
  },
  {
   "cell_type": "code",
   "execution_count": 3,
   "metadata": {},
   "outputs": [
    {
     "data": {
      "image/png": "[encoded data removed]",
      "text/plain": [
       "<Figure size 360x216 with 1 Axes>"
      ]
     },
     "metadata": {},
     "output_type": "display_data"
    }
   ],
   "source": [
    "cp = CoefPlot(df1)\n",
    "cp.simple_dotplot('coef', 'variable', 'err', sort_varname=True, zero_line=True, figsize=(5,3))"
   ]
  },
  {
   "cell_type": "markdown",
   "metadata": {},
   "source": [
    "## 1.3 Coefficient plot, y-axis sorted by coefficient value"
   ]
  },
  {
   "cell_type": "code",
   "execution_count": 4,
   "metadata": {},
   "outputs": [
    {
     "data": {
      "image/png": "[encoded data removed]",
      "text/plain": [
       "<Figure size 360x216 with 1 Axes>"
      ]
     },
     "metadata": {},
     "output_type": "display_data"
    }
   ],
   "source": [
    "cp.simple_dotplot('coef', 'variable', 'err', sort_coefval=True, zero_line=True, figsize=(5,3))"
   ]
  },
  {
   "cell_type": "markdown",
   "metadata": {},
   "source": [
    "# 2. Grouped coefficient plot example\n",
    "## 2.1 Generating some fake data "
   ]
  },
  {
   "cell_type": "code",
   "execution_count": 5,
   "metadata": {},
   "outputs": [
    {
     "data": {
      "text/html": [
       "<div>\n",
       "<style scoped>\n",
       "    .dataframe tbody tr th:only-of-type {\n",
       "        vertical-align: middle;\n",
       "    }\n",
       "\n",
       "    .dataframe tbody tr th {\n",
       "        vertical-align: top;\n",
       "    }\n",
       "\n",
       "    .dataframe thead th {\n",
       "        text-align: right;\n",
       "    }\n",
       "</style>\n",
       "<table border=\"1\" class=\"dataframe\">\n",
       "  <thead>\n",
       "    <tr style=\"text-align: right;\">\n",
       "      <th></th>\n",
       "      <th>group</th>\n",
       "      <th>variable</th>\n",
       "      <th>coef</th>\n",
       "      <th>err</th>\n",
       "    </tr>\n",
       "  </thead>\n",
       "  <tbody>\n",
       "    <tr>\n",
       "      <th>0</th>\n",
       "      <td>group 0</td>\n",
       "      <td>varname 0</td>\n",
       "      <td>0.249408</td>\n",
       "      <td>0.29519</td>\n",
       "    </tr>\n",
       "    <tr>\n",
       "      <th>1</th>\n",
       "      <td>group 0</td>\n",
       "      <td>varname 1</td>\n",
       "      <td>-1.35992</td>\n",
       "      <td>0.183432</td>\n",
       "    </tr>\n",
       "    <tr>\n",
       "      <th>2</th>\n",
       "      <td>group 1</td>\n",
       "      <td>varname 0</td>\n",
       "      <td>-1.19685</td>\n",
       "      <td>0.398376</td>\n",
       "    </tr>\n",
       "    <tr>\n",
       "      <th>3</th>\n",
       "      <td>group 1</td>\n",
       "      <td>varname 1</td>\n",
       "      <td>-0.212055</td>\n",
       "      <td>0.419261</td>\n",
       "    </tr>\n",
       "    <tr>\n",
       "      <th>4</th>\n",
       "      <td>group 2</td>\n",
       "      <td>varname 0</td>\n",
       "      <td>1.30716</td>\n",
       "      <td>0.322519</td>\n",
       "    </tr>\n",
       "    <tr>\n",
       "      <th>5</th>\n",
       "      <td>group 2</td>\n",
       "      <td>varname 1</td>\n",
       "      <td>0.519489</td>\n",
       "      <td>0.168501</td>\n",
       "    </tr>\n",
       "    <tr>\n",
       "      <th>6</th>\n",
       "      <td>group 3</td>\n",
       "      <td>varname 0</td>\n",
       "      <td>0.306614</td>\n",
       "      <td>0.124275</td>\n",
       "    </tr>\n",
       "    <tr>\n",
       "      <th>7</th>\n",
       "      <td>group 3</td>\n",
       "      <td>varname 1</td>\n",
       "      <td>0.394578</td>\n",
       "      <td>0.139651</td>\n",
       "    </tr>\n",
       "    <tr>\n",
       "      <th>8</th>\n",
       "      <td>group 4</td>\n",
       "      <td>varname 0</td>\n",
       "      <td>1.18124</td>\n",
       "      <td>0.446648</td>\n",
       "    </tr>\n",
       "    <tr>\n",
       "      <th>9</th>\n",
       "      <td>group 4</td>\n",
       "      <td>varname 1</td>\n",
       "      <td>-0.101482</td>\n",
       "      <td>0.199132</td>\n",
       "    </tr>\n",
       "  </tbody>\n",
       "</table>\n",
       "</div>"
      ],
      "text/plain": [
       "     group   variable      coef       err\n",
       "0  group 0  varname 0  0.249408   0.29519\n",
       "1  group 0  varname 1  -1.35992  0.183432\n",
       "2  group 1  varname 0  -1.19685  0.398376\n",
       "3  group 1  varname 1 -0.212055  0.419261\n",
       "4  group 2  varname 0   1.30716  0.322519\n",
       "5  group 2  varname 1  0.519489  0.168501\n",
       "6  group 3  varname 0  0.306614  0.124275\n",
       "7  group 3  varname 1  0.394578  0.139651\n",
       "8  group 4  varname 0   1.18124  0.446648\n",
       "9  group 4  varname 1 -0.101482  0.199132"
      ]
     },
     "execution_count": 5,
     "metadata": {},
     "output_type": "execute_result"
    }
   ],
   "source": [
    "df2 = pd.DataFrame([sorted(2*['group {}'.format(x) for x in range(5)]),\n",
    "                    5*['varname {}'.format(x) for x in range(2)],\n",
    "                    b, e]).T\n",
    "df2.columns = ['group', 'variable', 'coef', 'err']\n",
    "df2\n",
    "\n",
    "# un-comment this for 2 groups and 5 variables per-group example\n",
    "\n",
    "# df2 = pd.DataFrame([sorted(5*['group {}'.format(x) for x in range(2)]),\n",
    "#                     2*['varname {}'.format(x) for x in range(5)],\n",
    "#                     b, e]).T\n",
    "# df2.columns = ['group', 'variable', 'coef', 'err']\n",
    "# df2"
   ]
  },
  {
   "cell_type": "markdown",
   "metadata": {},
   "source": [
    "## 2.2 Coefficient plot, y-axis sorted by group name"
   ]
  },
  {
   "cell_type": "code",
   "execution_count": 6,
   "metadata": {},
   "outputs": [
    {
     "data": {
      "image/png": "[encoded data removed]",
      "text/plain": [
       "<Figure size 360x288 with 1 Axes>"
      ]
     },
     "metadata": {},
     "output_type": "display_data"
    }
   ],
   "source": [
    "cp = CoefPlot(df2)\n",
    "cp.grouped_dotplot('coef', 'variable', 'group', 'err', sort_groupname=True, zero_line=True, figsize=(5,4))"
   ]
  }
 ],
 "metadata": {
  "kernelspec": {
   "display_name": "Python 3",
   "language": "python",
   "name": "python3"
  },
  "language_info": {
   "codemirror_mode": {
    "name": "ipython",
    "version": 3
   },
   "file_extension": ".py",
   "mimetype": "text/x-python",
   "name": "python",
   "nbconvert_exporter": "python",
   "pygments_lexer": "ipython3",
   "version": "3.6.9"
  }
 },
 "nbformat": 4,
 "nbformat_minor": 4
}
